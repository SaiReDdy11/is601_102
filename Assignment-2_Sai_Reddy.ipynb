{
 "cells": [
  {
   "cell_type": "code",
   "execution_count": 1,
   "metadata": {},
   "outputs": [
    {
     "name": "stdout",
     "output_type": "stream",
     "text": [
      "output for arr 1: \n",
      "\n",
      "89\n",
      "17\n",
      "99\n",
      "73\n",
      "61\n",
      "\n",
      " End of odd values\n",
      "output for arr 2: \n",
      "\n",
      "89\n",
      "17\n",
      "99\n",
      "73\n",
      "61\n",
      "\n",
      " End of odd values\n",
      "output for arr 3: \n",
      "\n",
      "15\n",
      "13\n",
      "17\n",
      "11\n",
      "19\n",
      "9\n",
      "\n",
      " End of odd values\n"
     ]
    }
   ],
   "source": [
    "#Question-1\n",
    "\n",
    "arr1 = [89, 52, 36, 24, 17, 99, 82, 73, 61, 48]\n",
    "arr2 = [89, 52, 36, 24, 17, 99, 82, 73, 61, 48]\n",
    "arr3 = [15, 13, 16, 12, 17, 11, 18, 10, 19, 9]\n",
    "\n",
    "def odd_values(num,arr):\n",
    "    print(f'output for arr {num}: \\n')\n",
    "    for val in arr:\n",
    "        if val % 2 != 0:\n",
    "            print(val)\n",
    "    print('\\n End of odd values')\n",
    "\n",
    "odd_values(1, arr1)\n",
    "odd_values(2, arr2)\n",
    "odd_values(3, arr3)\n",
    "\n"
   ]
  },
  {
   "cell_type": "code",
   "execution_count": 2,
   "metadata": {},
   "outputs": [
    {
     "name": "stdout",
     "output_type": "stream",
     "text": [
      "output for arr 1 : \n",
      "\n",
      "110\n",
      "\n",
      " End of sum values\n",
      "output for arr 2 : \n",
      "\n",
      "155\n",
      "\n",
      " End of sum values\n",
      "output for arr 3 : \n",
      "\n",
      "495\n",
      "\n",
      " End of sum values\n"
     ]
    }
   ],
   "source": [
    "#Question-2\n",
    "\n",
    "arr1 = [0, 2, 4, 6, 8, 10, 12, 14, 16, 18, 20]\n",
    "arr2 = [17, 19, 15, 16, 14, 18, 13, 12, 11, 20]\n",
    "arr3 = [55, 66, 77, 88, 99, 11, 22, 33, 44]\n",
    "\n",
    "def sum_values(num, arr):\n",
    "    print(f'output for arr {num} : \\n')\n",
    "    sum = 0\n",
    "    for val in arr:\n",
    "        sum += val\n",
    "    print(sum)\n",
    "    print('\\n End of sum values')\n",
    "\n",
    "\n",
    "sum_values(1, arr1)\n",
    "sum_values(2, arr2)\n",
    "sum_values(3, arr3)\n",
    "\n"
   ]
  },
  {
   "cell_type": "code",
   "execution_count": 3,
   "metadata": {},
   "outputs": [
    {
     "name": "stdout",
     "output_type": "stream",
     "text": [
      "output for arr 1 : \n",
      "550\n",
      "End of converted sum values\n",
      "output for arr 2 : \n",
      "602\n",
      "End of converted sum values\n",
      "output for arr 3 : \n",
      "187\n",
      "End of converted sum values\n",
      "output for arr 4 : \n",
      "495\n",
      "End of converted sum values\n",
      "output for arr 5 : \n",
      "165\n",
      "End of converted sum values\n"
     ]
    }
   ],
   "source": [
    "#Question-3\n",
    "\n",
    "arr1 = [-10, 20, -30, 40, -50, 60, -70, 80, -90, 100] #1\n",
    "arr2 = [5, -8, 13, -21, 34, -55, 89, -144, 233] #2 \n",
    "arr3 = [-7, 12, -15, 18, -21, 24, -27, 30, -33] #3\n",
    "arr4 = [11, -22, 33, -44, 55, -66, 77, -88, 99] #4\n",
    "arr5 = [-3, 6, -9, 12, -15, 18, -21, 24, -27, 30] #5\n",
    "\n",
    "def converted_sum_values(num, arr):\n",
    "    print(f'output for arr {num} : ')\n",
    "    # creating an empty list to store the positive values\n",
    "    pos_list = []\n",
    "    for i in arr:\n",
    "        if i < 0:\n",
    "            # converting the negative value to its positive equivalent\n",
    "            i = -i\n",
    "        # adding the value to the positive list\n",
    "        pos_list.append(i)\n",
    "    # output the sum of all the positive values\n",
    "    print(sum(pos_list))\n",
    "    print('End of converted sum values')\n",
    "\n",
    "converted_sum_values(1, arr1)\n",
    "converted_sum_values(2, arr2)\n",
    "converted_sum_values(3, arr3)\n",
    "converted_sum_values(4, arr4)\n",
    "converted_sum_values(5, arr5)\n"
   ]
  },
  {
   "cell_type": "code",
   "execution_count": 4,
   "metadata": {},
   "outputs": [
    {
     "name": "stdout",
     "output_type": "stream",
     "text": [
      "output for arr 1 :\n",
      "['apple', 'banana', 'cherry']\n",
      "output for arr 2 :\n",
      "['dog', 'cat']\n",
      "output for arr 3 :\n",
      "['hello', 'world']\n",
      "output for arr 4 :\n",
      "[]\n",
      "output for arr 5 :\n",
      "['one', 'two', 'three']\n"
     ]
    }
   ],
   "source": [
    "#Question-4\n",
    "\n",
    "arr1 = ['apple', '', 'banana', '', 'cherry'] #1\n",
    "arr2 = ['', 'dog', '', 'cat', ''] #2\n",
    "arr3 = ['hello', '', 'world', '', ''] #3\n",
    "arr4 = ['', '', '', '', ''] #4\n",
    "arr5 = ['one', '', 'two', '', 'three'] #5\n",
    "\n",
    "def empty_str(num, arr):\n",
    "    print(f'output for arr {num} :')\n",
    "    arr = [elem for elem in arr if elem != '']\n",
    "    print(arr)\n",
    "\n",
    "empty_str(1, arr1)\n",
    "empty_str(2, arr2)\n",
    "empty_str(3, arr3)\n",
    "empty_str(4, arr4)\n",
    "empty_str(5, arr5)\n"
   ]
  },
  {
   "cell_type": "code",
   "execution_count": 7,
   "metadata": {},
   "outputs": [
    {
     "name": "stdout",
     "output_type": "stream",
     "text": [
      "500\n",
      "965.5\n",
      "Updated balance: 1120.0 (interest earned: 120.0)\n"
     ]
    }
   ],
   "source": [
    "#Question-5\n",
    "def print_smallest_value(my_list):\n",
    "    if len(my_list) == 0:\n",
    "        print(\"List is empty.\")\n",
    "    else:\n",
    "        smallest = my_list[0]\n",
    "        for item in my_list:\n",
    "            if item < smallest:\n",
    "                smallest = item\n",
    "        print(\"Smallest value in list:\", smallest)\n",
    "\n",
    "class BankAccount:\n",
    "    def __init__(self, account_number, balance, account_holder):\n",
    "        self.account_number = account_number\n",
    "        self.balance = balance\n",
    "        self.account_holder = account_holder\n",
    "    \n",
    "    def deposit(self, amount):\n",
    "        self.balance += amount\n",
    "    \n",
    "    def withdraw(self, amount):\n",
    "        self.balance -= amount\n",
    "    \n",
    "    def get_balance(self):\n",
    "        return self.balance\n",
    "\n",
    "# create an instance of BankAccount with balance as 1000, account number as 1234, and account holder name as \"John\"\n",
    "john_account = BankAccount(1234, 1000, \"John\")\n",
    "\n",
    "# deposit 200 into John's account\n",
    "john_account.deposit(200)\n",
    "\n",
    "# withdraw 700 from John's account\n",
    "john_account.withdraw(700)\n",
    "\n",
    "# print John's current balance\n",
    "print(john_account.get_balance()) # output should be 500\n",
    "\n",
    "class CheckingAccount(BankAccount):\n",
    "    def __init__(self, account_number, balance, account_holder, transaction_fees):\n",
    "        super().__init__(account_number, balance, account_holder)\n",
    "        self.transaction_fees = transaction_fees\n",
    "        \n",
    "    def apply_transaction_fees(self):\n",
    "        self.balance -= self.transaction_fees\n",
    "\n",
    "checking_account = CheckingAccount(123456, 1000, \"John Smith\", 34.50)\n",
    "\n",
    "checking_account.apply_transaction_fees()\n",
    "\n",
    "print(checking_account.get_balance())\n",
    "\n",
    "class SavingsAccount(BankAccount):\n",
    "    def __init__(self, account_number, balance, account_holder, interest_rate):\n",
    "        super().__init__(account_number, balance, account_holder)\n",
    "        self.interest_rate = interest_rate\n",
    "\n",
    "    def calculate_interest(self):\n",
    "        interest = self.balance * self.interest_rate\n",
    "        self.balance += interest\n",
    "        return interest\n",
    "\n",
    "savings_account = SavingsAccount(123456, 1000.0, \"John Smith\", 0.12)\n",
    "interest = savings_account.calculate_interest()\n",
    "print(f\"Updated balance: {savings_account.get_balance()} (interest earned: {interest})\")\n",
    "\n"
   ]
  }
 ],
 "metadata": {
  "kernelspec": {
   "display_name": "Python 3",
   "language": "python",
   "name": "python3"
  },
  "language_info": {
   "codemirror_mode": {
    "name": "ipython",
    "version": 3
   },
   "file_extension": ".py",
   "mimetype": "text/x-python",
   "name": "python",
   "nbconvert_exporter": "python",
   "pygments_lexer": "ipython3",
   "version": "3.9.6"
  },
  "orig_nbformat": 4,
  "vscode": {
   "interpreter": {
    "hash": "31f2aee4e71d21fbe5cf8b01ff0e069b9275f58929596ceb00d14d90e3e16cd6"
   }
  }
 },
 "nbformat": 4,
 "nbformat_minor": 2
}
